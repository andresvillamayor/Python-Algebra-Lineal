{
  "nbformat": 4,
  "nbformat_minor": 0,
  "metadata": {
    "colab": {
      "name": "sympy_simbolos.ipynb",
      "provenance": [],
      "authorship_tag": "ABX9TyPZrIHuIyHJzryz4YX0Thjk",
      "include_colab_link": true
    },
    "kernelspec": {
      "name": "python3",
      "display_name": "Python 3"
    },
    "language_info": {
      "name": "python"
    }
  },
  "cells": [
    {
      "cell_type": "markdown",
      "metadata": {
        "id": "view-in-github",
        "colab_type": "text"
      },
      "source": [
        "<a href=\"https://colab.research.google.com/github/andresvillamayor/Python-Algebra-Lineal/blob/main/sympy_simbolos.ipynb\" target=\"_parent\"><img src=\"https://colab.research.google.com/assets/colab-badge.svg\" alt=\"Open In Colab\"/></a>"
      ]
    },
    {
      "cell_type": "markdown",
      "metadata": {
        "id": "dON7RMs4J87p"
      },
      "source": [
        "importamos la libreria sympy\n",
        "esto tambien nos permite tener un salida en LATEX"
      ]
    },
    {
      "cell_type": "code",
      "metadata": {
        "id": "pCYUc2TBJux0"
      },
      "source": [
        "from sympy import init_session"
      ],
      "execution_count": 1,
      "outputs": []
    },
    {
      "cell_type": "markdown",
      "metadata": {
        "id": "kWlLP9C5J7lH"
      },
      "source": [
        "Inicializamos para la salida en LATEX"
      ]
    },
    {
      "cell_type": "code",
      "metadata": {
        "colab": {
          "base_uri": "https://localhost:8080/"
        },
        "id": "-7iVP7W6Lm0J",
        "outputId": "2b1ec52b-8f53-4c16-ce62-da615d644578"
      },
      "source": [
        "init_session(use_latex=True)"
      ],
      "execution_count": 2,
      "outputs": [
        {
          "output_type": "stream",
          "text": [
            "IPython console for SymPy 1.7.1 (Python 3.7.10-64-bit) (ground types: python)\n",
            "\n",
            "These commands were executed:\n",
            ">>> from __future__ import division\n",
            ">>> from sympy import *\n",
            ">>> x, y, z, t = symbols('x y z t')\n",
            ">>> k, m, n = symbols('k m n', integer=True)\n",
            ">>> f, g, h = symbols('f g h', cls=Function)\n",
            ">>> init_printing()\n",
            "\n",
            "Documentation can be found at https://docs.sympy.org/1.7.1/\n",
            "\n"
          ],
          "name": "stdout"
        }
      ]
    },
    {
      "cell_type": "markdown",
      "metadata": {
        "id": "jwX9PiMyNSOY"
      },
      "source": [
        "Las variables debes ser declaradas "
      ]
    },
    {
      "cell_type": "code",
      "metadata": {
        "colab": {
          "base_uri": "https://localhost:8080/",
          "height": 38
        },
        "id": "5U5AfKUoNZpi",
        "outputId": "ae60075a-01d1-4cef-9510-26e4f8efcb05"
      },
      "source": [
        "a = symbols('a')\n",
        "b = symbols('b')\n",
        "a,b"
      ],
      "execution_count": 11,
      "outputs": [
        {
          "output_type": "execute_result",
          "data": {
            "image/png": "[encoded data removed]",
            "text/latex": "$\\displaystyle \\left( a, \\  b\\right)$",
            "text/plain": [
              "(a, b)"
            ]
          },
          "metadata": {
            "tags": []
          },
          "execution_count": 11
        }
      ]
    },
    {
      "cell_type": "markdown",
      "metadata": {
        "id": "Z28WfkwoNh4A"
      },
      "source": [
        "Utilizando PI "
      ]
    },
    {
      "cell_type": "code",
      "metadata": {
        "colab": {
          "base_uri": "https://localhost:8080/",
          "height": 38
        },
        "id": "Uw5QJEouNgAR",
        "outputId": "88b5c453-dedc-4600-d4ea-1e6376b3a538"
      },
      "source": [
        "(b + pi)"
      ],
      "execution_count": 6,
      "outputs": [
        {
          "output_type": "execute_result",
          "data": {
            "image/png": "[encoded data removed]",
            "text/latex": "$\\displaystyle b + \\pi$",
            "text/plain": [
              "b + π"
            ]
          },
          "metadata": {
            "tags": []
          },
          "execution_count": 6
        }
      ]
    },
    {
      "cell_type": "code",
      "metadata": {
        "colab": {
          "base_uri": "https://localhost:8080/",
          "height": 39
        },
        "id": "uLfpaEMaN2yV",
        "outputId": "abe1105a-9ae5-4dcb-af9e-04e231032a3e"
      },
      "source": [
        "(a + pi) ** 2"
      ],
      "execution_count": 8,
      "outputs": [
        {
          "output_type": "execute_result",
          "data": {
            "image/png": "[encoded data removed]",
            "text/latex": "$\\displaystyle \\left(a + \\pi\\right)^{2}$",
            "text/plain": [
              "       2\n",
              "(a + π) "
            ]
          },
          "metadata": {
            "tags": []
          },
          "execution_count": 8
        }
      ]
    },
    {
      "cell_type": "markdown",
      "metadata": {
        "id": "xzQKBTY5OhK1"
      },
      "source": [
        "tipo de variable "
      ]
    },
    {
      "cell_type": "code",
      "metadata": {
        "colab": {
          "base_uri": "https://localhost:8080/"
        },
        "id": "777UnSkYOj2s",
        "outputId": "1a8d8ac4-023c-4211-99c3-06c49321f5a1"
      },
      "source": [
        "type(a) "
      ],
      "execution_count": 9,
      "outputs": [
        {
          "output_type": "execute_result",
          "data": {
            "text/plain": [
              "sympy.core.symbol.Symbol"
            ]
          },
          "metadata": {
            "tags": []
          },
          "execution_count": 9
        }
      ]
    },
    {
      "cell_type": "markdown",
      "metadata": {
        "id": "f4ixp_qzPSyx"
      },
      "source": [
        "Pasar los simbolos a variables "
      ]
    },
    {
      "cell_type": "code",
      "metadata": {
        "colab": {
          "base_uri": "https://localhost:8080/",
          "height": 38
        },
        "id": "alqipVFDPZUG",
        "outputId": "dde0c043-4bea-4eb2-f0b5-cb9f5395b46b"
      },
      "source": [
        "a = 2\n",
        "b = 3\n",
        "(a + b) * pi "
      ],
      "execution_count": 13,
      "outputs": [
        {
          "output_type": "execute_result",
          "data": {
            "image/png": "[encoded data removed]",
            "text/latex": "$\\displaystyle 5 \\pi$",
            "text/plain": [
              "5⋅π"
            ]
          },
          "metadata": {
            "tags": []
          },
          "execution_count": 13
        }
      ]
    },
    {
      "cell_type": "markdown",
      "metadata": {
        "id": "Vqdmohc1P5Wz"
      },
      "source": [
        "Para saber el valor de a ( anterior era symbol)"
      ]
    },
    {
      "cell_type": "code",
      "metadata": {
        "colab": {
          "base_uri": "https://localhost:8080/"
        },
        "id": "vsgVVCSuP_bD",
        "outputId": "fa19453e-e37a-4890-ae7e-cf0b1732c2f9"
      },
      "source": [
        "type(a)"
      ],
      "execution_count": 14,
      "outputs": [
        {
          "output_type": "execute_result",
          "data": {
            "text/plain": [
              "int"
            ]
          },
          "metadata": {
            "tags": []
          },
          "execution_count": 14
        }
      ]
    }
  ]
}