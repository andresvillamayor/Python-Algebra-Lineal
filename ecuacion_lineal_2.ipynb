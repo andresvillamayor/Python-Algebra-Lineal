{
  "nbformat": 4,
  "nbformat_minor": 0,
  "metadata": {
    "colab": {
      "name": "ecuacion_lineal_2.ipynb",
      "provenance": [],
      "authorship_tag": "ABX9TyMlgxzz2vqCUjbc6dkCcGII",
      "include_colab_link": true
    },
    "kernelspec": {
      "name": "python3",
      "display_name": "Python 3"
    },
    "language_info": {
      "name": "python"
    }
  },
  "cells": [
    {
      "cell_type": "markdown",
      "metadata": {
        "id": "view-in-github",
        "colab_type": "text"
      },
      "source": [
        "<a href=\"https://colab.research.google.com/github/andresvillamayor/Python-Algebra-Lineal/blob/main/ecuacion_lineal_2.ipynb\" target=\"_parent\"><img src=\"https://colab.research.google.com/assets/colab-badge.svg\" alt=\"Open In Colab\"/></a>"
      ]
    },
    {
      "cell_type": "code",
      "metadata": {
        "id": "hPumZgbOzPR3"
      },
      "source": [
        "from sympy import * "
      ],
      "execution_count": 1,
      "outputs": []
    },
    {
      "cell_type": "code",
      "metadata": {
        "id": "69vbz6FdzlhB"
      },
      "source": [
        "x,y,d,z = symbols('x,y,d,z')"
      ],
      "execution_count": 12,
      "outputs": []
    },
    {
      "cell_type": "markdown",
      "metadata": {
        "id": "UfwpfbV70-0V"
      },
      "source": [
        "ecuación"
      ]
    },
    {
      "cell_type": "code",
      "metadata": {
        "colab": {
          "base_uri": "https://localhost:8080/",
          "height": 39
        },
        "id": "XO6qqPxxz0G9",
        "outputId": "bf2cd09d-92af-45be-e60a-a0f38b7a2aca"
      },
      "source": [
        " d = (x + y) ** 2\n",
        " d"
      ],
      "execution_count": 13,
      "outputs": [
        {
          "output_type": "execute_result",
          "data": {
            "text/latex": "$\\displaystyle \\left(x + y\\right)^{2}$",
            "text/plain": [
              "(x + y)**2"
            ]
          },
          "metadata": {
            "tags": []
          },
          "execution_count": 13
        }
      ]
    },
    {
      "cell_type": "markdown",
      "metadata": {
        "id": "K-JGUBfw05cs"
      },
      "source": [
        "Expandimos la ecuación"
      ]
    },
    {
      "cell_type": "code",
      "metadata": {
        "colab": {
          "base_uri": "https://localhost:8080/",
          "height": 38
        },
        "id": "H5xED6kN0DYK",
        "outputId": "829a3301-f4e9-4dba-d245-956390a9b1d3"
      },
      "source": [
        "d = expand((x+y)**2)\n",
        "d"
      ],
      "execution_count": 14,
      "outputs": [
        {
          "output_type": "execute_result",
          "data": {
            "text/latex": "$\\displaystyle x^{2} + 2 x y + y^{2}$",
            "text/plain": [
              "x**2 + 2*x*y + y**2"
            ]
          },
          "metadata": {
            "tags": []
          },
          "execution_count": 14
        }
      ]
    },
    {
      "cell_type": "code",
      "metadata": {
        "colab": {
          "base_uri": "https://localhost:8080/",
          "height": 38
        },
        "id": "bgee4mCV1H8a",
        "outputId": "13eccdb7-13e0-4bd7-ca99-6d0105bbdb8e"
      },
      "source": [
        "d= expand((x+y)**3)\n",
        "d"
      ],
      "execution_count": 15,
      "outputs": [
        {
          "output_type": "execute_result",
          "data": {
            "text/latex": "$\\displaystyle x^{3} + 3 x^{2} y + 3 x y^{2} + y^{3}$",
            "text/plain": [
              "x**3 + 3*x**2*y + 3*x*y**2 + y**3"
            ]
          },
          "metadata": {
            "tags": []
          },
          "execution_count": 15
        }
      ]
    },
    {
      "cell_type": "markdown",
      "metadata": {
        "id": "oM7Ek4bP2FiP"
      },
      "source": [
        "Ecuación con dos variables"
      ]
    },
    {
      "cell_type": "code",
      "metadata": {
        "colab": {
          "base_uri": "https://localhost:8080/",
          "height": 38
        },
        "id": "ipx9gmW21xS1",
        "outputId": "bf34c1b7-24b4-4f67-eeea-9c7ff0a260e0"
      },
      "source": [
        "d =  5 * x + 3 * y\n",
        "d"
      ],
      "execution_count": 16,
      "outputs": [
        {
          "output_type": "execute_result",
          "data": {
            "text/latex": "$\\displaystyle 5 x + 3 y$",
            "text/plain": [
              "5*x + 3*y"
            ]
          },
          "metadata": {
            "tags": []
          },
          "execution_count": 16
        }
      ]
    },
    {
      "cell_type": "markdown",
      "metadata": {
        "id": "kFmDJcgk2MQI"
      },
      "source": [
        "Ecuación con 3 variables "
      ]
    },
    {
      "cell_type": "code",
      "metadata": {
        "colab": {
          "base_uri": "https://localhost:8080/",
          "height": 38
        },
        "id": "zs3CZyK72P_F",
        "outputId": "0a12cd7a-815c-4082-8756-ebab0789d437"
      },
      "source": [
        "d = 5 * x + 2 * y + 12 * z \n",
        "d"
      ],
      "execution_count": 17,
      "outputs": [
        {
          "output_type": "execute_result",
          "data": {
            "text/latex": "$\\displaystyle 5 x + 2 y + 12 z$",
            "text/plain": [
              "5*x + 2*y + 12*z"
            ]
          },
          "metadata": {
            "tags": []
          },
          "execution_count": 17
        }
      ]
    }
  ]
}