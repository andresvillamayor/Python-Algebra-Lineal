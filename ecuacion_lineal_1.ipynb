{
  "nbformat": 4,
  "nbformat_minor": 0,
  "metadata": {
    "colab": {
      "name": "ecuacion_lineal_1.ipynb",
      "provenance": [],
      "authorship_tag": "ABX9TyO9YZYL0UpJEQBxAEhJdPEO",
      "include_colab_link": true
    },
    "kernelspec": {
      "name": "python3",
      "display_name": "Python 3"
    },
    "language_info": {
      "name": "python"
    }
  },
  "cells": [
    {
      "cell_type": "markdown",
      "metadata": {
        "id": "view-in-github",
        "colab_type": "text"
      },
      "source": [
        "<a href=\"https://colab.research.google.com/github/andresvillamayor/Python-Algebra-Lineal/blob/main/ecuacion_lineal_1.ipynb\" target=\"_parent\"><img src=\"https://colab.research.google.com/assets/colab-badge.svg\" alt=\"Open In Colab\"/></a>"
      ]
    },
    {
      "cell_type": "code",
      "metadata": {
        "colab": {
          "base_uri": "https://localhost:8080/"
        },
        "id": "MTFLs138eTuI",
        "outputId": "7d9e43b3-2770-463a-9e07-7c8ff3f48493"
      },
      "source": [
        "from sympy import init_session\n",
        "init_session(use_latex=True)"
      ],
      "execution_count": 6,
      "outputs": [
        {
          "output_type": "stream",
          "text": [
            "IPython console for SymPy 1.7.1 (Python 3.7.10-64-bit) (ground types: python)\n",
            "\n",
            "These commands were executed:\n",
            ">>> from __future__ import division\n",
            ">>> from sympy import *\n",
            ">>> x, y, z, t = symbols('x y z t')\n",
            ">>> k, m, n = symbols('k m n', integer=True)\n",
            ">>> f, g, h = symbols('f g h', cls=Function)\n",
            ">>> init_printing()\n",
            "\n",
            "Documentation can be found at https://docs.sympy.org/1.7.1/\n",
            "\n"
          ],
          "name": "stdout"
        }
      ]
    },
    {
      "cell_type": "markdown",
      "metadata": {
        "id": "HqkPGBegehlq"
      },
      "source": [
        "Ecuacion lineal  "
      ]
    },
    {
      "cell_type": "code",
      "metadata": {
        "colab": {
          "base_uri": "https://localhost:8080/",
          "height": 38
        },
        "id": "qjfhp4kvek_K",
        "outputId": "76da9ce8-cbba-4da2-8b60-41cb74b19c34"
      },
      "source": [
        "a, b, c, d, x, y = symbols ('a b c d x y')\n",
        "a,b,c,d,x,y"
      ],
      "execution_count": 27,
      "outputs": [
        {
          "output_type": "execute_result",
          "data": {
            "image/png": "[encoded data removed]",
            "text/latex": "$\\displaystyle \\left( a, \\  b, \\  c, \\  d, \\  x, \\  y\\right)$",
            "text/plain": [
              "(a, b, c, d, x, y)"
            ]
          },
          "metadata": {
            "tags": []
          },
          "execution_count": 27
        }
      ]
    },
    {
      "cell_type": "code",
      "metadata": {
        "colab": {
          "base_uri": "https://localhost:8080/",
          "height": 38
        },
        "id": "a-G1ev42krj6",
        "outputId": "fe1417d1-9559-44b1-e5e1-749d5565428b"
      },
      "source": [
        "x = symbols('x', real = True , positive = True)\n",
        "x"
      ],
      "execution_count": 35,
      "outputs": [
        {
          "output_type": "execute_result",
          "data": {
            "image/png": "[encoded data removed]",
            "text/latex": "$\\displaystyle x$",
            "text/plain": [
              "x"
            ]
          },
          "metadata": {
            "tags": []
          },
          "execution_count": 35
        }
      ]
    },
    {
      "cell_type": "code",
      "metadata": {
        "colab": {
          "base_uri": "https://localhost:8080/"
        },
        "id": "DXEEDovplWdT",
        "outputId": "661ca8d0-a494-470a-afaf-0e2eef8d4432"
      },
      "source": [
        "x.assumptions0"
      ],
      "execution_count": 36,
      "outputs": [
        {
          "output_type": "execute_result",
          "data": {
            "text/plain": [
              "{'commutative': True,\n",
              " 'complex': True,\n",
              " 'extended_negative': False,\n",
              " 'extended_nonnegative': True,\n",
              " 'extended_nonpositive': False,\n",
              " 'extended_nonzero': True,\n",
              " 'extended_positive': True,\n",
              " 'extended_real': True,\n",
              " 'finite': True,\n",
              " 'hermitian': True,\n",
              " 'imaginary': False,\n",
              " 'infinite': False,\n",
              " 'negative': False,\n",
              " 'nonnegative': True,\n",
              " 'nonpositive': False,\n",
              " 'nonzero': True,\n",
              " 'positive': True,\n",
              " 'real': True,\n",
              " 'zero': False}"
            ]
          },
          "metadata": {
            "tags": []
          },
          "execution_count": 36
        }
      ]
    },
    {
      "cell_type": "markdown",
      "metadata": {
        "id": "1hpTqStVqd91"
      },
      "source": [
        "Sympy define los números en Reales, Racionales y Enteros "
      ]
    },
    {
      "cell_type": "code",
      "metadata": {
        "colab": {
          "base_uri": "https://localhost:8080/",
          "height": 51
        },
        "id": "iAU60XakmIcS",
        "outputId": "608b4fc8-e0f7-4899-ce9d-b0c46af47500"
      },
      "source": [
        "Rational(5,2)"
      ],
      "execution_count": 40,
      "outputs": [
        {
          "output_type": "execute_result",
          "data": {
            "image/png": "[encoded data removed]",
            "text/latex": "$\\displaystyle \\frac{5}{2}$",
            "text/plain": [
              "5/2"
            ]
          },
          "metadata": {
            "tags": []
          },
          "execution_count": 40
        }
      ]
    },
    {
      "cell_type": "markdown",
      "metadata": {
        "id": "2hG10udorOII"
      },
      "source": [
        "sumando enteros racionales "
      ]
    },
    {
      "cell_type": "code",
      "metadata": {
        "colab": {
          "base_uri": "https://localhost:8080/",
          "height": 38
        },
        "id": "mrNbn423sJOM",
        "outputId": "37420cad-6be2-4919-a19d-122f463e3f40"
      },
      "source": [
        "x = symbols('x',real= True, positive = True)\n",
        "x"
      ],
      "execution_count": 43,
      "outputs": [
        {
          "output_type": "execute_result",
          "data": {
            "image/png": "[encoded data removed]",
            "text/latex": "$\\displaystyle x$",
            "text/plain": [
              "x"
            ]
          },
          "metadata": {
            "tags": []
          },
          "execution_count": 43
        }
      ]
    },
    {
      "cell_type": "code",
      "metadata": {
        "colab": {
          "base_uri": "https://localhost:8080/",
          "height": 37
        },
        "id": "Urm6sLdOstz-",
        "outputId": "4b6caf79-d810-4b6d-af88-e7bd15bd6264"
      },
      "source": [
        "x = 1/2 + 3/2\n",
        "x"
      ],
      "execution_count": 46,
      "outputs": [
        {
          "output_type": "execute_result",
          "data": {
            "image/png": "[encoded data removed]",
            "text/latex": "$\\displaystyle 2.0$",
            "text/plain": [
              "2.0"
            ]
          },
          "metadata": {
            "tags": []
          },
          "execution_count": 46
        }
      ]
    },
    {
      "cell_type": "code",
      "metadata": {
        "colab": {
          "base_uri": "https://localhost:8080/",
          "height": 37
        },
        "id": "tsAIcPLqqpCp",
        "outputId": "8ff6f200-09dc-479c-a189-7b90c4398db9"
      },
      "source": [
        "x = Rational(1,2) + Rational (3,2)\n",
        "x"
      ],
      "execution_count": 47,
      "outputs": [
        {
          "output_type": "execute_result",
          "data": {
            "image/png": "[encoded data removed]",
            "text/latex": "$\\displaystyle 2$",
            "text/plain": [
              "2"
            ]
          },
          "metadata": {
            "tags": []
          },
          "execution_count": 47
        }
      ]
    },
    {
      "cell_type": "code",
      "metadata": {
        "id": "SwGMUIiwt1jI"
      },
      "source": [
        "y,d = symbols=('y,d')"
      ],
      "execution_count": null,
      "outputs": []
    },
    {
      "cell_type": "code",
      "metadata": {
        "colab": {
          "base_uri": "https://localhost:8080/",
          "height": 38
        },
        "id": "EE-aKayuuDrn",
        "outputId": "0b0a2559-3c90-437c-9e3d-b0c02bc296c9"
      },
      "source": [
        "d = 2 * y \n",
        "d"
      ],
      "execution_count": 48,
      "outputs": [
        {
          "output_type": "execute_result",
          "data": {
            "image/png": "[encoded data removed]",
            "text/latex": "$\\displaystyle 2 y$",
            "text/plain": [
              "2⋅y"
            ]
          },
          "metadata": {
            "tags": []
          },
          "execution_count": 48
        }
      ]
    },
    {
      "cell_type": "code",
      "metadata": {
        "colab": {
          "base_uri": "https://localhost:8080/",
          "height": 38
        },
        "id": "FK5BoadHuaG9",
        "outputId": "8df74c17-4edd-4d57-8af4-26cb4754e05f"
      },
      "source": [
        "d = y **2\n",
        "d"
      ],
      "execution_count": 51,
      "outputs": [
        {
          "output_type": "execute_result",
          "data": {
            "image/png": "[encoded data removed]",
            "text/latex": "$\\displaystyle y^{2}$",
            "text/plain": [
              " 2\n",
              "y "
            ]
          },
          "metadata": {
            "tags": []
          },
          "execution_count": 51
        }
      ]
    }
  ]
}